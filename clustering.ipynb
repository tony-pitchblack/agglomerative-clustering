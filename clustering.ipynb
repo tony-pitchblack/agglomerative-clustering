{
 "cells": [
  {
   "cell_type": "code",
   "execution_count": 2,
   "metadata": {},
   "outputs": [],
   "source": [
    "import numpy as np\n",
    "import pandas as pd\n",
    "from numpy import ma\n",
    "from numpy import linalg as LA"
   ]
  },
  {
   "cell_type": "code",
   "execution_count": 50,
   "metadata": {},
   "outputs": [],
   "source": [
    "class AgglomerativeClustering():\n",
    "    def __init__(self, metric='euclidean', linkage='single'):\n",
    "        metric_choices = {\n",
    "            'euclidean': lambda a, b: np.sqrt(((a-b) ** 2).sum()),\n",
    "            'precomputed': None\n",
    "        }\n",
    "        try:\n",
    "            metric_func = metric_choices[metric]\n",
    "        except KeyError as e:\n",
    "            raise ValueError(\n",
    "                f\"Unknown metric.\"\n",
    "            ) from e\n",
    "        self._metric_func = metric_func\n",
    "\n",
    "        def compute_ward_dist(a, b):\n",
    "            c = np.concatenate(( a, b ))\n",
    "            ward_dist = metric_func(c, c.mean(0)) ** 2 \\\n",
    "                - metric_func(b, b.mean(0)) ** 2 \\\n",
    "                - metric_func(a, a.mean(0)) ** 2\n",
    "            return ward_dist\n",
    "        linkage_choices = {\n",
    "            'single': lambda a, b: np.minimum(a, b),\n",
    "            'average': lambda a, b: (a+b)/2,\n",
    "            'complete': lambda a, b: np.maximum(a, b),\n",
    "            'ward': compute_ward_dist\n",
    "        }\n",
    "        try:\n",
    "            join_func = linkage_choices[linkage]\n",
    "        except KeyError as e:\n",
    "            raise ValueError(\n",
    "                f\"Unknown linkage. Should be one of {linkage_choices.keys()}\"\n",
    "            ) from e\n",
    "        if linkage == 'ward' and metric != 'euclidean':\n",
    "            raise ValueError(\n",
    "                f\"Only euclidean disance is availible for ward's method.\"\n",
    "            )\n",
    "        self._join_func = join_func\n",
    "\n",
    "        self.distance_matrix = None\n",
    "\n",
    "    def __compute_distance_matrix(self, X):\n",
    "        N = X.shape[0]\n",
    "        matrix = np.empty((N, N))\n",
    "        for i in range(N):\n",
    "            for j in range(N):\n",
    "                dist = self._metric_func(X[i], X[j])\n",
    "                matrix[i,j] = dist\n",
    "        self.distance_matrix = matrix\n",
    "\n",
    "    def fit(self, X):\n",
    "        if self._metric_func != None:\n",
    "            self.__compute_distance_matrix(X)\n",
    "        else:\n",
    "            self.distance_matrix = X\n",
    "        \n",
    "        agglomerative_schedule = []\n",
    "\n",
    "        D = self.distance_matrix.copy()\n",
    "        N = D.shape[0]\n",
    "        vertex_index = N\n",
    "        cluster_mapping = np.arange(N, dtype=int)\n",
    "\n",
    "        mask = np.zeros_like(D)\n",
    "        D_masked = ma.masked_array(D, mask)\n",
    "        D_masked.fill_value = np.inf\n",
    "        np.fill_diagonal(D_masked.mask, 1)\n",
    "\n",
    "        for k in range(N-1):\n",
    "            ind_min_flat = np.argmin(D_masked)\n",
    "            ind_min = np.unravel_index(ind_min_flat, D_masked.shape)\n",
    "            i, j = ind_min\n",
    "            a = D[:, i].copy()\n",
    "            b = D[:, j].copy()\n",
    "            new_cluster = self._join_func(a, b)\n",
    "            \n",
    "            agglomerative_schedule.append((i+1, j+1,\n",
    "                D_masked[ind_min].copy()))\n",
    "\n",
    "            D_masked[:, [j]] = ma.masked\n",
    "            D_masked[[j], :] = ma.masked\n",
    "            D_masked.data[:, [i]] = np.atleast_2d(new_cluster).T\n",
    "            D_masked.data[[i], :] = new_cluster\n",
    "        self.agglomerative_schedule =  agglomerative_schedule"
   ]
  },
  {
   "cell_type": "code",
   "execution_count": 51,
   "metadata": {},
   "outputs": [
    {
     "data": {
      "text/html": [
       "<div>\n",
       "<style scoped>\n",
       "    .dataframe tbody tr th:only-of-type {\n",
       "        vertical-align: middle;\n",
       "    }\n",
       "\n",
       "    .dataframe tbody tr th {\n",
       "        vertical-align: top;\n",
       "    }\n",
       "\n",
       "    .dataframe thead th {\n",
       "        text-align: right;\n",
       "    }\n",
       "</style>\n",
       "<table border=\"1\" class=\"dataframe\">\n",
       "  <thead>\n",
       "    <tr style=\"text-align: right;\">\n",
       "      <th></th>\n",
       "      <th>x1</th>\n",
       "      <th>x2</th>\n",
       "    </tr>\n",
       "  </thead>\n",
       "  <tbody>\n",
       "    <tr>\n",
       "      <th>0</th>\n",
       "      <td>1</td>\n",
       "      <td>5</td>\n",
       "    </tr>\n",
       "    <tr>\n",
       "      <th>1</th>\n",
       "      <td>7</td>\n",
       "      <td>9</td>\n",
       "    </tr>\n",
       "    <tr>\n",
       "      <th>2</th>\n",
       "      <td>1</td>\n",
       "      <td>3</td>\n",
       "    </tr>\n",
       "    <tr>\n",
       "      <th>3</th>\n",
       "      <td>9</td>\n",
       "      <td>7</td>\n",
       "    </tr>\n",
       "  </tbody>\n",
       "</table>\n",
       "</div>"
      ],
      "text/plain": [
       "   x1  x2\n",
       "0   1   5\n",
       "1   7   9\n",
       "2   1   3\n",
       "3   9   7"
      ]
     },
     "execution_count": 51,
     "metadata": {},
     "output_type": "execute_result"
    }
   ],
   "source": [
    "np.set_printoptions(precision=2)\n",
    "pd.set_option('display.precision', 2)\n",
    "\n",
    "X1 = pd.read_excel('data/clustering.xlsx', sheet_name='raw_data')\n",
    "X1"
   ]
  },
  {
   "cell_type": "code",
   "execution_count": 52,
   "metadata": {},
   "outputs": [
    {
     "name": "stdout",
     "output_type": "stream",
     "text": [
      "(1, 3, 2.0)\n",
      "(1, 2, 0.4862160718316275)\n",
      "(1, 4, 12.14027664890245)\n"
     ]
    }
   ],
   "source": [
    "model = AgglomerativeClustering(linkage='ward')\n",
    "model.fit(X1.to_numpy())\n",
    "print(*model.agglomerative_schedule, sep='\\n')"
   ]
  },
  {
   "cell_type": "code",
   "execution_count": 48,
   "metadata": {},
   "outputs": [
    {
     "data": {
      "text/html": [
       "<div>\n",
       "<style scoped>\n",
       "    .dataframe tbody tr th:only-of-type {\n",
       "        vertical-align: middle;\n",
       "    }\n",
       "\n",
       "    .dataframe tbody tr th {\n",
       "        vertical-align: top;\n",
       "    }\n",
       "\n",
       "    .dataframe thead th {\n",
       "        text-align: right;\n",
       "    }\n",
       "</style>\n",
       "<table border=\"1\" class=\"dataframe\">\n",
       "  <thead>\n",
       "    <tr style=\"text-align: right;\">\n",
       "      <th></th>\n",
       "      <th>0</th>\n",
       "      <th>1</th>\n",
       "      <th>2</th>\n",
       "      <th>3</th>\n",
       "      <th>4</th>\n",
       "    </tr>\n",
       "  </thead>\n",
       "  <tbody>\n",
       "    <tr>\n",
       "      <th>0</th>\n",
       "      <td>0.0</td>\n",
       "      <td>2.2</td>\n",
       "      <td>3.0</td>\n",
       "      <td>5.1</td>\n",
       "      <td>5.8</td>\n",
       "    </tr>\n",
       "    <tr>\n",
       "      <th>1</th>\n",
       "      <td>2.2</td>\n",
       "      <td>0.0</td>\n",
       "      <td>1.4</td>\n",
       "      <td>5.0</td>\n",
       "      <td>6.4</td>\n",
       "    </tr>\n",
       "    <tr>\n",
       "      <th>2</th>\n",
       "      <td>3.0</td>\n",
       "      <td>1.4</td>\n",
       "      <td>0.0</td>\n",
       "      <td>6.4</td>\n",
       "      <td>7.8</td>\n",
       "    </tr>\n",
       "    <tr>\n",
       "      <th>3</th>\n",
       "      <td>5.1</td>\n",
       "      <td>5.0</td>\n",
       "      <td>6.4</td>\n",
       "      <td>0.0</td>\n",
       "      <td>2.0</td>\n",
       "    </tr>\n",
       "    <tr>\n",
       "      <th>4</th>\n",
       "      <td>5.8</td>\n",
       "      <td>6.4</td>\n",
       "      <td>7.8</td>\n",
       "      <td>2.0</td>\n",
       "      <td>0.0</td>\n",
       "    </tr>\n",
       "  </tbody>\n",
       "</table>\n",
       "</div>"
      ],
      "text/plain": [
       "     0    1    2    3    4\n",
       "0  0.0  2.2  3.0  5.1  5.8\n",
       "1  2.2  0.0  1.4  5.0  6.4\n",
       "2  3.0  1.4  0.0  6.4  7.8\n",
       "3  5.1  5.0  6.4  0.0  2.0\n",
       "4  5.8  6.4  7.8  2.0  0.0"
      ]
     },
     "execution_count": 48,
     "metadata": {},
     "output_type": "execute_result"
    }
   ],
   "source": [
    "X2 = pd.read_excel('data/clustering.xlsx', sheet_name='dist_matrix', header=None)\n",
    "X2"
   ]
  },
  {
   "cell_type": "code",
   "execution_count": 43,
   "metadata": {},
   "outputs": [
    {
     "name": "stdout",
     "output_type": "stream",
     "text": [
      "(2, 3, 1.4)\n",
      "(4, 5, 2.0)\n",
      "(1, 2, 2.2)\n",
      "(1, 4, 5.0)\n"
     ]
    }
   ],
   "source": [
    "model = AgglomerativeClustering(metric='precomputed')\n",
    "model.fit(X2.to_numpy())\n",
    "print(*model.agglomerative_schedule, sep='\\n')"
   ]
  }
 ],
 "metadata": {
  "kernelspec": {
   "display_name": "base",
   "language": "python",
   "name": "python3"
  },
  "language_info": {
   "codemirror_mode": {
    "name": "ipython",
    "version": 3
   },
   "file_extension": ".py",
   "mimetype": "text/x-python",
   "name": "python",
   "nbconvert_exporter": "python",
   "pygments_lexer": "ipython3",
   "version": "3.10.13"
  }
 },
 "nbformat": 4,
 "nbformat_minor": 2
}
