{
  "cells": [
    {
      "cell_type": "code",
      "execution_count": 2,
      "metadata": {
        "id": "naDhIgCuu4KB"
      },
      "outputs": [],
      "source": [
        "import pandas as pd\n",
        "import numpy as np\n",
        "from numpy import ma\n",
        "import matplotlib.pyplot as plt\n",
        "import matplotlib as mpl\n",
        "from scipy.cluster.hierarchy import dendrogram, fcluster\n",
        "from sklearn.preprocessing import MinMaxScaler, StandardScaler"
      ]
    },
    {
      "cell_type": "code",
      "execution_count": 3,
      "metadata": {},
      "outputs": [
        {
          "data": {
            "text/html": [
              "<div>\n",
              "<style scoped>\n",
              "    .dataframe tbody tr th:only-of-type {\n",
              "        vertical-align: middle;\n",
              "    }\n",
              "\n",
              "    .dataframe tbody tr th {\n",
              "        vertical-align: top;\n",
              "    }\n",
              "\n",
              "    .dataframe thead th {\n",
              "        text-align: right;\n",
              "    }\n",
              "</style>\n",
              "<table border=\"1\" class=\"dataframe\">\n",
              "  <thead>\n",
              "    <tr style=\"text-align: right;\">\n",
              "      <th></th>\n",
              "      <th>sepal length (cm)</th>\n",
              "      <th>sepal width (cm)</th>\n",
              "      <th>petal length (cm)</th>\n",
              "      <th>petal width (cm)</th>\n",
              "    </tr>\n",
              "  </thead>\n",
              "  <tbody>\n",
              "    <tr>\n",
              "      <th>0</th>\n",
              "      <td>5.1</td>\n",
              "      <td>3.5</td>\n",
              "      <td>1.4</td>\n",
              "      <td>0.2</td>\n",
              "    </tr>\n",
              "    <tr>\n",
              "      <th>1</th>\n",
              "      <td>4.9</td>\n",
              "      <td>3.0</td>\n",
              "      <td>1.4</td>\n",
              "      <td>0.2</td>\n",
              "    </tr>\n",
              "    <tr>\n",
              "      <th>2</th>\n",
              "      <td>4.7</td>\n",
              "      <td>3.2</td>\n",
              "      <td>1.3</td>\n",
              "      <td>0.2</td>\n",
              "    </tr>\n",
              "    <tr>\n",
              "      <th>3</th>\n",
              "      <td>4.6</td>\n",
              "      <td>3.1</td>\n",
              "      <td>1.5</td>\n",
              "      <td>0.2</td>\n",
              "    </tr>\n",
              "    <tr>\n",
              "      <th>4</th>\n",
              "      <td>5.0</td>\n",
              "      <td>3.6</td>\n",
              "      <td>1.4</td>\n",
              "      <td>0.2</td>\n",
              "    </tr>\n",
              "  </tbody>\n",
              "</table>\n",
              "</div>"
            ],
            "text/plain": [
              "   sepal length (cm)  sepal width (cm)  petal length (cm)  petal width (cm)\n",
              "0                5.1               3.5                1.4               0.2\n",
              "1                4.9               3.0                1.4               0.2\n",
              "2                4.7               3.2                1.3               0.2\n",
              "3                4.6               3.1                1.5               0.2\n",
              "4                5.0               3.6                1.4               0.2"
            ]
          },
          "execution_count": 3,
          "metadata": {},
          "output_type": "execute_result"
        }
      ],
      "source": [
        "np.set_printoptions(precision=2)\n",
        "pd.set_option('display.precision', 2)\n",
        "\n",
        "from sklearn.datasets import load_iris\n",
        "iris_data = load_iris(return_X_y=False, as_frame=True)\n",
        "iris_data.data.head()"
      ]
    },
    {
      "cell_type": "code",
      "execution_count": 4,
      "metadata": {},
      "outputs": [
        {
          "data": {
            "text/plain": [
              "149"
            ]
          },
          "execution_count": 4,
          "metadata": {},
          "output_type": "execute_result"
        }
      ],
      "source": [
        "X = iris_data.data\n",
        "target_labels = iris_data\n",
        "\n",
        "# X = iris_data.data.iloc[:10, :]\n",
        "# target_labels = iris_data.target[:10]\n",
        "\n",
        "len(X.drop_duplicates())"
      ]
    },
    {
      "cell_type": "code",
      "execution_count": 5,
      "metadata": {},
      "outputs": [
        {
          "data": {
            "text/html": [
              "<div>\n",
              "<style scoped>\n",
              "    .dataframe tbody tr th:only-of-type {\n",
              "        vertical-align: middle;\n",
              "    }\n",
              "\n",
              "    .dataframe tbody tr th {\n",
              "        vertical-align: top;\n",
              "    }\n",
              "\n",
              "    .dataframe thead th {\n",
              "        text-align: right;\n",
              "    }\n",
              "</style>\n",
              "<table border=\"1\" class=\"dataframe\">\n",
              "  <thead>\n",
              "    <tr style=\"text-align: right;\">\n",
              "      <th></th>\n",
              "      <th>sepal length (cm)</th>\n",
              "      <th>sepal width (cm)</th>\n",
              "      <th>petal length (cm)</th>\n",
              "      <th>petal width (cm)</th>\n",
              "    </tr>\n",
              "  </thead>\n",
              "  <tbody>\n",
              "    <tr>\n",
              "      <th>142</th>\n",
              "      <td>5.8</td>\n",
              "      <td>2.7</td>\n",
              "      <td>5.1</td>\n",
              "      <td>1.9</td>\n",
              "    </tr>\n",
              "  </tbody>\n",
              "</table>\n",
              "</div>"
            ],
            "text/plain": [
              "     sepal length (cm)  sepal width (cm)  petal length (cm)  petal width (cm)\n",
              "142                5.8               2.7                5.1               1.9"
            ]
          },
          "execution_count": 5,
          "metadata": {},
          "output_type": "execute_result"
        }
      ],
      "source": [
        "X[X.duplicated()]"
      ]
    },
    {
      "cell_type": "code",
      "execution_count": 23,
      "metadata": {},
      "outputs": [
        {
          "data": {
            "text/plain": [
              "array([[10,  1,  2],\n",
              "       [ 3, 10,  5],\n",
              "       [ 6,  7, 10]])"
            ]
          },
          "execution_count": 23,
          "metadata": {},
          "output_type": "execute_result"
        }
      ],
      "source": [
        "a = np.arange(9).reshape(3, 3)\n",
        "np.fill_diagonal(a, 10)\n",
        "a"
      ]
    },
    {
      "cell_type": "code",
      "execution_count": 24,
      "metadata": {},
      "outputs": [
        {
          "data": {
            "text/plain": [
              "array([[False,  True,  True],\n",
              "       [ True, False,  True],\n",
              "       [ True,  True, False]])"
            ]
          },
          "execution_count": 24,
          "metadata": {},
          "output_type": "execute_result"
        }
      ],
      "source": [
        "am = ma.MaskedArray(a)\n",
        "am[a==10] = ma.masked\n",
        "~am.mask"
      ]
    },
    {
      "cell_type": "code",
      "execution_count": 31,
      "metadata": {},
      "outputs": [
        {
          "name": "stdout",
          "output_type": "stream",
          "text": [
            "0\n",
            "2\n"
          ]
        }
      ],
      "source": [
        "for i in np.nditer(np.nonzero(~am[1].mask)):\n",
        "    print(i)"
      ]
    },
    {
      "cell_type": "code",
      "execution_count": 45,
      "metadata": {},
      "outputs": [
        {
          "data": {
            "text/plain": [
              "True"
            ]
          },
          "execution_count": 45,
          "metadata": {},
          "output_type": "execute_result"
        }
      ],
      "source": [
        "am.mask[0][0]"
      ]
    },
    {
      "cell_type": "code",
      "execution_count": 52,
      "metadata": {
        "id": "WznNLgrBu4KC"
      },
      "outputs": [],
      "source": [
        "class AgglomerativeClustering():\n",
        "    def __init__(self, n_clusters=2, metric='euclidean', linkage='single'):\n",
        "        self.n_clusters = n_clusters\n",
        "\n",
        "        metric_choices = {\n",
        "            'euclidean': lambda a, b: np.sqrt(((a-b) ** 2).sum()),\n",
        "            'precomputed': None\n",
        "        }\n",
        "        try:\n",
        "            metric_func = metric_choices[metric]\n",
        "        except KeyError as e:\n",
        "            raise ValueError(\n",
        "                f\"Unknown metric.\"\n",
        "            ) from e\n",
        "        self._metric_func = metric_func\n",
        "\n",
        "        def ward_join(p, q, D):\n",
        "            N_p = np.count_nonzero(self.labels_ == p)\n",
        "            N_q = np.count_nonzero(self.labels_ == q)\n",
        "            D_t = np.ndarray((D.shape[0])) # new array\n",
        "            # D_t.fill(np.inf)\n",
        "            # for r in index list of existing clusters\n",
        "            assert D[p][q] == np.min(D)\n",
        "            for r in np.nditer(np.nonzero(~D.mask[p])):\n",
        "                N_r = np.count_nonzero(self.labels_ == r)\n",
        "                assert D[p][r] >= D[p][q]\n",
        "                print(p, r, D[q][r], p, q, D[p][q])\n",
        "                assert D[q][r] >= D[p][q]\n",
        "\n",
        "                assert D[p][r] ** 2 >= D[p][q] ** 2\n",
        "                assert D[q][r] ** 2 >= D[p][q] ** 2\n",
        "\n",
        "                assert (N_r + N_p) * D[p][r] ** 2 > N_r * D[p][q]\n",
        "                assert (N_r + N_q) * D[q][r] ** 2 > N_r * D[p][q]\n",
        "                \n",
        "                D_t[r] = np.sqrt( (N_r + N_p) * D[p][r] ** 2 \\\n",
        "                    + (N_r + N_q) * D[q][r] ** 2 \\\n",
        "                    - N_r * D[p][q] ** 2 ) / (N_p + N_q + N_r)\n",
        "            # print(np.argmin(D_t))\n",
        "            return(D_t)\n",
        "\n",
        "        linkage_choices = {\n",
        "            'single': lambda i, j, D: np.minimum(D[i], D[j]),\n",
        "            'average': lambda i, j, D: (D[i]+D[j])/2,\n",
        "            'complete': lambda i, j, D: np.maximum(D[i], D[j]),\n",
        "            'ward': ward_join\n",
        "        }\n",
        "        try:\n",
        "            join_func = linkage_choices[linkage]\n",
        "        except KeyError as e:\n",
        "            raise ValueError(\n",
        "                f\"Unknown linkage. Should be one of {linkage_choices.keys()}\"\n",
        "            ) from e\n",
        "        if linkage == 'ward' and metric != 'euclidean':\n",
        "            raise ValueError(\n",
        "                f\"Only euclidean disance is availible for ward's method.\"\n",
        "            )\n",
        "        self._join_func = join_func\n",
        "        self._linkage = linkage\n",
        "\n",
        "        self.distance_matrix = None\n",
        "        self.children_ = None\n",
        "\n",
        "    def __compute_distance_matrix(self, X):\n",
        "        N = X.shape[0]\n",
        "        matrix = np.empty((N, N))\n",
        "        for i in range(N):\n",
        "            for j in range(N):\n",
        "                dist = self._metric_func(X[i], X[j])\n",
        "                matrix[i,j] = dist\n",
        "        self.distance_matrix = matrix\n",
        "\n",
        "    def fit(self, X):\n",
        "        if type(X) == pd.core.frame.DataFrame:\n",
        "            X = X.to_numpy()\n",
        "\n",
        "        if self._metric_func != None:\n",
        "            self.__compute_distance_matrix(X)\n",
        "            # if self._linkage == 'ward':\n",
        "            #     scaler = StandardScaler()\n",
        "            #     D = scaler.fit_transform(D)\n",
        "            # self.distance_matrix = D\n",
        "        else:\n",
        "            self.distance_matrix = X\n",
        "        \n",
        "        D = self.distance_matrix.copy()\n",
        "        N = D.shape[0]\n",
        "\n",
        "        agglomerative_schedule = []\n",
        "\n",
        "        elem_count = np.zeros((N,1), dtype='int')\n",
        "        clust_map = np.arange(N, dtype=int)\n",
        "\n",
        "        self.children_ = np.ndarray((N-1, 2), dtype='int')\n",
        "        self.distances_ = np.ndarray((N-1))\n",
        "        self.labels_ = np.arange(N)\n",
        "\n",
        "        mask = np.zeros_like(D)\n",
        "        D_masked = ma.masked_array(D, mask)\n",
        "        D_masked.fill_value = np.inf\n",
        "        np.fill_diagonal(D_masked.mask, 1)\n",
        "\n",
        "        cluster_num = N\n",
        "        for k in range(N-1):\n",
        "            # D_masked[D_masked == 0] = ma.masked\n",
        "            ind_min_flat = np.argmin(D_masked)\n",
        "            ind_min = np.unravel_index(ind_min_flat, D_masked.shape)\n",
        "            i, j = ind_min\n",
        "\n",
        "            new_cluster = self._join_func(i, j, D_masked)\n",
        "            elem_count[i] += elem_count[j]\n",
        "            elem_count[j] = 0\n",
        "\n",
        "            agglomerative_schedule.append((i+1, j+1,\n",
        "                D_masked[ind_min].copy(), elem_count[i]))\n",
        "            self.distances_[k] = D_masked[ind_min]\n",
        "\n",
        "            self.children_[cluster_num - N, :] = [clust_map[i], clust_map[j]]\n",
        "            clust_map[i] = cluster_num\n",
        "            cluster_num += 1\n",
        "\n",
        "            D_masked[:, [j]] = ma.masked\n",
        "            D_masked[[j], :] = ma.masked\n",
        "            D_masked.data[:, [i]] = np.atleast_2d(new_cluster).T\n",
        "            D_masked.data[[i], :] = new_cluster\n",
        "\n",
        "            cluster_count = N - k -1\n",
        "            if cluster_count == self.n_clusters:\n",
        "                self.labels_ = np.where(self.labels_ == j, i, j)\n",
        "\n",
        "        self.agglomerative_schedule =  agglomerative_schedule\n",
        "        \n",
        "        return self"
      ]
    },
    {
      "cell_type": "code",
      "execution_count": 53,
      "metadata": {
        "colab": {
          "base_uri": "https://localhost:8080/",
          "height": 402
        },
        "id": "B6OpYw76yv79",
        "outputId": "b2f77c21-7d40-4387-8b3c-f7891ac843eb"
      },
      "outputs": [
        {
          "name": "stdout",
          "output_type": "stream",
          "text": [
            "101 0 4.208325082500163 101 142 0.0\n",
            "101 1 4.180908992073374 101 142 0.0\n",
            "101 2 4.334743360338648 101 142 0.0\n",
            "101 3 4.177319714841084 101 142 0.0\n",
            "101 4 4.246174749112429 101 142 0.0\n",
            "101 5 3.9255572852781038 101 142 0.0\n",
            "101 6 4.263801121065568 101 142 0.0\n",
            "101 7 4.120679555607302 101 142 0.0\n",
            "101 8 4.31045241245046 101 142 0.0\n",
            "101 9 4.143669871020132 101 142 0.0\n",
            "101 10 4.124318125460256 101 142 0.0\n",
            "101 11 4.077989700820736 101 142 0.0\n",
            "101 12 4.244997055358224 101 142 0.0\n",
            "101 13 4.645427859734773 101 142 0.0\n",
            "101 14 4.448595283907045 101 142 0.0\n",
            "101 15 4.255584566190643 101 142 0.0\n",
            "101 16 4.27668095606862 101 142 0.0\n",
            "101 17 4.168932717135165 101 142 0.0\n",
            "101 18 3.9166312055132275 101 142 0.0\n",
            "101 19 4.149698784249285 101 142 0.0\n",
            "101 20 3.885871845545089 101 142 0.0\n",
            "101 21 4.086563348340509 101 142 0.0\n",
            "101 22 4.685082710048992 101 142 0.0\n",
            "101 23 3.7907782842049724 101 142 0.0\n",
            "101 24 3.823610858861032 101 142 0.0\n",
            "101 25 3.9837168574084174 101 142 0.0\n",
            "101 26 3.9534794801541584 101 142 0.0\n",
            "101 27 4.104875150354758 101 142 0.0\n",
            "101 28 4.17492514902962 101 142 0.0\n",
            "101 29 4.074309757492672 101 142 0.0\n",
            "101 30 4.03732584763727 101 142 0.0\n",
            "101 31 3.982461550347975 101 142 0.0\n",
            "101 32 4.303486958270002 101 142 0.0\n",
            "101 33 4.349712634186309 101 142 0.0\n",
            "101 34 4.1012193308819755 101 142 0.0\n",
            "101 35 4.357751713900185 101 142 0.0\n",
            "101 36 4.249705872175156 101 142 0.0\n",
            "101 37 4.3069710934716054 101 142 0.0\n",
            "101 38 4.402272140611028 101 142 0.0\n",
            "101 39 4.102438299353203 101 142 0.0\n",
            "101 40 4.275511665286389 101 142 0.0\n",
            "101 41 4.341658669218481 101 142 0.0\n",
            "101 42 4.420407221060069 101 142 0.0\n",
            "101 43 3.9012818406262313 101 142 0.0\n",
            "101 44 3.766961640367472 101 142 0.0\n",
            "101 45 4.164132562731402 101 142 0.0\n",
            "101 46 4.103656905736638 101 142 0.0\n",
            "101 47 4.274342054632502 101 142 0.0\n",
            "101 48 4.135214625627066 101 142 0.0\n",
            "101 49 4.192851058647325 101 142 0.0\n",
            "101 50 1.449137674618944 101 142 0.0\n",
            "101 51 1.063014581273465 101 142 0.0\n",
            "101 52 1.2529964086141672 101 142 0.0\n",
            "101 53 1.349073756323204 101 142 0.0\n",
            "101 54 0.9539392014169458 101 142 0.0\n",
            "101 55 0.8602325267042623 101 142 0.0\n",
            "101 56 0.9273618495495699 101 142 0.0\n",
            "101 57 2.2248595461286986 101 142 0.0\n",
            "101 58 1.1357816691600544 101 142 0.0\n",
            "101 59 1.431782106327635 101 142 0.0\n",
            "101 60 2.121320343559642 101 142 0.0\n",
            "101 61 1.0344080432788596 101 142 0.0\n",
            "101 62 1.519868415357066 101 142 0.0\n",
            "101 63 0.734846922834953 101 142 0.0\n",
            "101 64 1.640121946685672 101 142 0.0\n",
            "101 65 1.3076696830622019 101 142 0.0\n",
            "101 66 0.8062257748298546 101 142 0.0\n",
            "101 67 1.345362404707371 101 142 0.0\n",
            "101 68 0.9643650760992953 101 142 0.0\n",
            "101 69 1.4696938456699067 101 142 0.0\n",
            "101 70 0.6 101 142 0.0\n",
            "101 71 1.2922847983320083 101 142 0.0\n",
            "101 72 0.6999999999999998 101 142 0.0\n",
            "101 73 0.8660254037844383 101 142 0.0\n",
            "101 74 1.1832159566199232 101 142 0.0\n",
            "101 75 1.2124355652982135 101 142 0.0\n",
            "101 76 1.161895003862225 101 142 0.0\n",
            "101 77 0.9746794344808966 101 142 0.0\n",
            "101 78 0.774596669241483 101 142 0.0\n",
            "101 79 1.8411952639521965 101 142 0.0\n",
            "101 80 1.5842979517754858 101 142 0.0\n",
            "101 81 1.7175564037317663 101 142 0.0\n",
            "101 82 1.38924439894498 101 142 0.0\n",
            "101 83 0.3605551275463989 101 142 0.0\n",
            "101 84 0.8774964387392117 101 142 0.0\n",
            "101 85 0.989949493661166 101 142 0.0\n",
            "101 86 1.1357816691600546 101 142 0.0\n",
            "101 87 1.122497216032182 101 142 0.0\n",
            "101 88 1.2206555615733703 101 142 0.0\n",
            "101 89 1.3038404810405293 101 142 0.0\n",
            "101 90 1.0392304845413258 101 142 0.0\n",
            "101 91 0.824621125123532 101 142 0.0\n",
            "101 92 1.3076696830622019 101 142 0.0\n",
            "101 93 2.2022715545545237 101 142 0.0\n",
            "101 94 1.0999999999999994 101 142 0.0\n",
            "101 95 1.1832159566199227 101 142 0.0\n",
            "101 96 1.1045361017187254 101 142 0.0\n",
            "101 97 1.0954451150103321 101 142 0.0\n",
            "101 98 2.362202362203543 101 142 0.0\n",
            "101 99 1.1747340124470729 101 142 0.0\n",
            "101 100 1.3341664064126335 101 142 0.0\n",
            "101 102 1.5684387141358123 101 142 0.0\n",
            "101 103 0.7416198487095662 101 142 0.0\n",
            "101 104 1.077032961426901 101 142 0.0\n",
            "101 105 2.3706539182259396 101 142 0.0\n",
            "101 106 1.1180339887498942 101 142 0.0\n",
            "101 107 1.9339079605813716 101 142 0.0\n",
            "101 108 1.1618950038622256 101 142 0.0\n",
            "101 109 2.032240143290158 101 142 0.0\n",
            "101 110 0.8660254037844388 101 142 0.0\n",
            "101 111 0.6324555320336764 101 142 0.0\n",
            "101 112 1.1357816691600549 101 142 0.0\n",
            "101 113 0.26457513110645897 101 142 0.0\n",
            "101 114 0.5099019513592784 101 142 0.0\n",
            "101 115 0.9000000000000004 101 142 0.0\n",
            "101 116 0.8660254037844389 101 142 0.0\n",
            "101 117 2.73313007374329 101 142 0.0\n",
            "101 118 2.649528259898355 101 142 0.0\n",
            "101 119 0.6782329983125268 101 142 0.0\n",
            "101 120 1.4071247279470294 101 142 0.0\n",
            "101 121 0.31622776601683755 101 142 0.0\n",
            "101 122 2.4879710609249464 101 142 0.0\n",
            "101 123 0.5477225575051659 101 142 0.0\n",
            "101 124 1.2529964086141672 101 142 0.0\n",
            "101 125 1.7406895185529214 101 142 0.0\n",
            "101 126 0.5196152422706632 101 142 0.0\n",
            "101 127 0.47958315233127147 101 142 0.0\n",
            "101 128 0.8124038404635964 101 142 0.0\n",
            "101 129 1.621727474022686 101 142 0.0\n",
            "101 130 1.8894443627691189 101 142 0.0\n",
            "101 131 2.7055498516937373 101 142 0.0\n",
            "101 132 0.8426149773176363 101 142 0.0\n",
            "101 133 0.648074069840786 101 142 0.0\n",
            "101 134 0.7745966692414833 101 142 0.0\n",
            "101 135 2.2045407685048604 101 142 0.0\n",
            "101 136 1.1135528725660042 101 142 0.0\n",
            "101 137 0.830662386291808 101 142 0.0\n",
            "101 138 0.4795831523312718 101 142 0.0\n",
            "101 139 1.2247448713915896 101 142 0.0\n",
            "101 140 1.2124355652982144 101 142 0.0\n",
            "101 141 1.2369316876852985 101 142 0.0\n"
          ]
        }
      ],
      "source": [
        "def plot_dendrogram(model, **kwargs):\n",
        "    # Create linkage matrix and then plot the dendrogram\n",
        "\n",
        "    # create the counts of samples under each node\n",
        "    counts = np.zeros(model.children_.shape[0])\n",
        "    n_samples = len(model.labels_)\n",
        "    for i, merge in enumerate(model.children_):\n",
        "        current_count = 0\n",
        "        for child_idx in merge:\n",
        "            if child_idx < n_samples:\n",
        "                current_count += 1  # leaf node\n",
        "            else:\n",
        "                current_count += counts[child_idx - n_samples]\n",
        "        counts[i] = current_count\n",
        "\n",
        "    linkage_matrix = np.column_stack(\n",
        "        [model.children_, model.distances_, counts]\n",
        "    ).astype(float)\n",
        "\n",
        "    # Plot the corresponding dendrogram\n",
        "    dendrogram(linkage_matrix, **kwargs)\n",
        "    return linkage_matrix\n",
        "\n",
        "linkage_types = ['ward', 'complete', 'average', 'single']\n",
        "cutoff_thresholds = [0.55, 0.5, 0.38, 0.25]\n",
        "linkage_colors = dict(zip(linkage_types, cutoff_thresholds))\n",
        "labels = [' Уорда', 'Полной связи', \"Средней связи\", \"Ближнего соседа\"]\n",
        "linkage_labels = dict(zip(linkage_types, labels))\n",
        "\n",
        "mpl.rcParams.update(mpl.rcParamsDefault)\n",
        "hclust = dict()\n",
        "fig, axs = plt.subplots(2, 2)\n",
        "axs_indices = [(i, j) for i in range(2) for j in range(2)]\n",
        "for linkage_type, axs_ind in zip(linkage_types, axs_indices):\n",
        "    model = AgglomerativeClustering(linkage=linkage_type)\n",
        "    clustering = model.fit(X)\n",
        "    axs[axs_ind].set_title(linkage_labels[linkage_type])\n",
        "    axs[axs_ind].axhline(y=linkage_colors[linkage_type], linestyle='dashed', color='black')\n",
        "    linkage_matrix = plot_dendrogram(\n",
        "        clustering,\n",
        "        truncate_mode=\"level\",\n",
        "        p=6,\n",
        "        ax=axs[axs_ind],\n",
        "        labels=None,\n",
        "        color_threshold = linkage_colors[linkage_type]\n",
        "        # orientation='right'\n",
        "        )\n",
        "\n",
        "    hclust[linkage_type] = {\n",
        "        \"clustering\": clustering,\n",
        "        \"linkage_matrix\": linkage_matrix\n",
        "    }\n",
        "fig.tight_layout()\n",
        "plt.show()"
      ]
    },
    {
      "cell_type": "code",
      "execution_count": null,
      "metadata": {},
      "outputs": [],
      "source": [
        "a = np.arange(149, 2)"
      ]
    },
    {
      "cell_type": "code",
      "execution_count": null,
      "metadata": {
        "id": "Q4ntbvtLyuo4"
      },
      "outputs": [],
      "source": [
        "from scipy.cluster.hierarchy import dendrogram, linkage\n",
        "Z=linkage(iris_data.data, 'ward')"
      ]
    },
    {
      "cell_type": "code",
      "execution_count": null,
      "metadata": {
        "id": "bB2rdldB8Ad5"
      },
      "outputs": [],
      "source": [
        "from sklearn.cluster import AgglomerativeClustering as AC\n",
        "clustering = AC(n_clusters=3, compute_distances=True).fit(iris_data.data)\n",
        "# print(clustering.distances_.shape)\n",
        "clustering.labels_"
      ]
    },
    {
      "cell_type": "code",
      "execution_count": null,
      "metadata": {
        "id": "hyTHZh0gu4KI",
        "outputId": "b1078c73-26f9-44dc-fc4c-bcfee49bc6ac"
      },
      "outputs": [],
      "source": [
        "model = AgglomerativeClustering(linkage='ward')\n",
        "model.fit(X1.to_numpy())\n",
        "print(*model.agglomerative_schedule, sep='\\n')"
      ]
    },
    {
      "cell_type": "code",
      "execution_count": null,
      "metadata": {
        "id": "t9NX6oLHu4KJ",
        "outputId": "df3b2adf-93e3-412c-ce79-0d968dbf6066"
      },
      "outputs": [],
      "source": [
        "X2 = pd.read_excel('iris_data/clustering.xlsx', sheet_name='dist_matrix', header=None)\n",
        "X2"
      ]
    },
    {
      "cell_type": "code",
      "execution_count": null,
      "metadata": {
        "id": "j85tWyOpu4KJ",
        "outputId": "574c4a97-09a5-4f0f-bdd0-407304981c52"
      },
      "outputs": [],
      "source": [
        "model = AgglomerativeClustering(metric='precomputed')\n",
        "model.fit(X2.to_numpy())\n",
        "print(*model.agglomerative_schedule, sep='\\n')"
      ]
    }
  ],
  "metadata": {
    "colab": {
      "provenance": []
    },
    "kernelspec": {
      "display_name": "base",
      "language": "python",
      "name": "python3"
    },
    "language_info": {
      "codemirror_mode": {
        "name": "ipython",
        "version": 3
      },
      "file_extension": ".py",
      "mimetype": "text/x-python",
      "name": "python",
      "nbconvert_exporter": "python",
      "pygments_lexer": "ipython3",
      "version": "3.10.13"
    }
  },
  "nbformat": 4,
  "nbformat_minor": 0
}
