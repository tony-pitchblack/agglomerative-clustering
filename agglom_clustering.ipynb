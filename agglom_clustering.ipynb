{
  "cells": [
    {
      "cell_type": "code",
      "execution_count": 1,
      "metadata": {
        "id": "naDhIgCuu4KB"
      },
      "outputs": [],
      "source": [
        "import pandas as pd\n",
        "import numpy as np\n",
        "from numpy import ma\n",
        "import matplotlib.pyplot as plt\n",
        "import matplotlib as mpl\n",
        "from scipy.cluster.hierarchy import dendrogram, fcluster\n",
        "from sklearn.preprocessing import MinMaxScaler, StandardScaler"
      ]
    },
    {
      "cell_type": "code",
      "execution_count": 2,
      "metadata": {},
      "outputs": [
        {
          "data": {
            "text/html": [
              "<div>\n",
              "<style scoped>\n",
              "    .dataframe tbody tr th:only-of-type {\n",
              "        vertical-align: middle;\n",
              "    }\n",
              "\n",
              "    .dataframe tbody tr th {\n",
              "        vertical-align: top;\n",
              "    }\n",
              "\n",
              "    .dataframe thead th {\n",
              "        text-align: right;\n",
              "    }\n",
              "</style>\n",
              "<table border=\"1\" class=\"dataframe\">\n",
              "  <thead>\n",
              "    <tr style=\"text-align: right;\">\n",
              "      <th></th>\n",
              "      <th>sepal length (cm)</th>\n",
              "      <th>sepal width (cm)</th>\n",
              "      <th>petal length (cm)</th>\n",
              "      <th>petal width (cm)</th>\n",
              "    </tr>\n",
              "  </thead>\n",
              "  <tbody>\n",
              "    <tr>\n",
              "      <th>0</th>\n",
              "      <td>5.1</td>\n",
              "      <td>3.5</td>\n",
              "      <td>1.4</td>\n",
              "      <td>0.2</td>\n",
              "    </tr>\n",
              "    <tr>\n",
              "      <th>1</th>\n",
              "      <td>4.9</td>\n",
              "      <td>3.0</td>\n",
              "      <td>1.4</td>\n",
              "      <td>0.2</td>\n",
              "    </tr>\n",
              "    <tr>\n",
              "      <th>2</th>\n",
              "      <td>4.7</td>\n",
              "      <td>3.2</td>\n",
              "      <td>1.3</td>\n",
              "      <td>0.2</td>\n",
              "    </tr>\n",
              "    <tr>\n",
              "      <th>3</th>\n",
              "      <td>4.6</td>\n",
              "      <td>3.1</td>\n",
              "      <td>1.5</td>\n",
              "      <td>0.2</td>\n",
              "    </tr>\n",
              "    <tr>\n",
              "      <th>4</th>\n",
              "      <td>5.0</td>\n",
              "      <td>3.6</td>\n",
              "      <td>1.4</td>\n",
              "      <td>0.2</td>\n",
              "    </tr>\n",
              "  </tbody>\n",
              "</table>\n",
              "</div>"
            ],
            "text/plain": [
              "   sepal length (cm)  sepal width (cm)  petal length (cm)  petal width (cm)\n",
              "0                5.1               3.5                1.4               0.2\n",
              "1                4.9               3.0                1.4               0.2\n",
              "2                4.7               3.2                1.3               0.2\n",
              "3                4.6               3.1                1.5               0.2\n",
              "4                5.0               3.6                1.4               0.2"
            ]
          },
          "execution_count": 2,
          "metadata": {},
          "output_type": "execute_result"
        }
      ],
      "source": [
        "np.set_printoptions(precision=2)\n",
        "pd.set_option('display.precision', 2)\n",
        "\n",
        "from sklearn.datasets import load_iris\n",
        "iris_data = load_iris(return_X_y=False, as_frame=True)\n",
        "iris_data.data.head()"
      ]
    },
    {
      "cell_type": "code",
      "execution_count": 3,
      "metadata": {},
      "outputs": [
        {
          "data": {
            "text/plain": [
              "149"
            ]
          },
          "execution_count": 3,
          "metadata": {},
          "output_type": "execute_result"
        }
      ],
      "source": [
        "X = iris_data.data\n",
        "target_labels = iris_data\n",
        "\n",
        "# X = iris_data.data.iloc[:10, :]\n",
        "# target_labels = iris_data.target[:10]\n",
        "\n",
        "len(X.drop_duplicates())"
      ]
    },
    {
      "cell_type": "code",
      "execution_count": 4,
      "metadata": {},
      "outputs": [],
      "source": [
        "X[X.duplicated()]\n",
        "for i in []:\n",
        "    print('wow')"
      ]
    },
    {
      "cell_type": "code",
      "execution_count": 5,
      "metadata": {},
      "outputs": [
        {
          "data": {
            "text/plain": [
              "array([[10,  1,  2],\n",
              "       [ 3, 10,  5],\n",
              "       [ 6,  7, 10]])"
            ]
          },
          "execution_count": 5,
          "metadata": {},
          "output_type": "execute_result"
        }
      ],
      "source": [
        "a = np.arange(9).reshape(3, 3)\n",
        "np.fill_diagonal(a, 10)\n",
        "a"
      ]
    },
    {
      "cell_type": "code",
      "execution_count": 6,
      "metadata": {},
      "outputs": [
        {
          "data": {
            "text/plain": [
              "array([[False,  True,  True],\n",
              "       [ True, False,  True],\n",
              "       [ True,  True, False]])"
            ]
          },
          "execution_count": 6,
          "metadata": {},
          "output_type": "execute_result"
        }
      ],
      "source": [
        "am = ma.MaskedArray(a)\n",
        "am[a==10] = ma.masked\n",
        "~am.mask"
      ]
    },
    {
      "cell_type": "code",
      "execution_count": 7,
      "metadata": {},
      "outputs": [
        {
          "name": "stdout",
          "output_type": "stream",
          "text": [
            "<class 'numpy.ndarray'>\n",
            "<class 'numpy.ndarray'>\n"
          ]
        }
      ],
      "source": [
        "for i in np.nditer(np.nonzero(~am[1].mask)):\n",
        "    print(type(i))\n",
        "for i in (np.nonzero([])[0]):\n",
        "    print(i)\n",
        "# for i in np.nditer(np.nonzero([])):\n",
        "#     print(type(i))"
      ]
    },
    {
      "cell_type": "code",
      "execution_count": 8,
      "metadata": {},
      "outputs": [
        {
          "data": {
            "text/plain": [
              "True"
            ]
          },
          "execution_count": 8,
          "metadata": {},
          "output_type": "execute_result"
        }
      ],
      "source": [
        "am.mask[0][0]"
      ]
    },
    {
      "cell_type": "code",
      "execution_count": 9,
      "metadata": {
        "id": "WznNLgrBu4KC"
      },
      "outputs": [],
      "source": [
        "class AgglomerativeClustering():\n",
        "    def __init__(self, n_clusters=2, metric='euclidean', linkage='single'):\n",
        "        self.n_clusters = n_clusters\n",
        "\n",
        "        metric_choices = {\n",
        "            'euclidean': lambda a, b: np.sqrt(((a-b) ** 2).sum()),\n",
        "            'precomputed': None\n",
        "        }\n",
        "        try:\n",
        "            metric_func = metric_choices[metric]\n",
        "        except KeyError as e:\n",
        "            raise ValueError(\n",
        "                f\"Unknown metric.\"\n",
        "            ) from e\n",
        "        self._metric_func = metric_func\n",
        "\n",
        "        def ward_join(p, q, D):\n",
        "            N_p = np.count_nonzero(self.labels_ == p)\n",
        "            N_q = np.count_nonzero(self.labels_ == q)\n",
        "            D_t = np.ndarray((D.shape[0])) # new array\n",
        "            # D_t.fill(np.inf)\n",
        "            # for r in index list of existing clusters\n",
        "            assert D[p][q] == np.min(D)\n",
        "\n",
        "            non_masked = np.nonzero(~(D.mask[p] | D.mask[q]))\n",
        "            # for r in np.nditer(non_masked, flags=[['zerosize_ok']]):\n",
        "            for r in list(non_masked[0]):\n",
        "                N_r = np.count_nonzero(self.labels_ == r)\n",
        "                assert D[p][r] >= D[p][q]\n",
        "                assert D[q][r] >= D[p][q]\n",
        "\n",
        "                assert D[p][r] ** 2 >= D[p][q] ** 2 \n",
        "                assert D[q][r] ** 2 >= D[p][q] ** 2\n",
        "\n",
        "                assert (N_r + N_p) * D[p][r] ** 2 > N_r * D[p][q] ** 2\n",
        "                assert (N_r + N_q) * D[q][r] ** 2 > N_r * D[p][q] ** 2\n",
        "                \n",
        "                D_t[r] = np.sqrt( ((N_r + N_p) * D[p][r] ** 2 \\\n",
        "                    + (N_r + N_q) * D[q][r] ** 2 \\\n",
        "                    - N_r * D[p][q] ** 2) / (N_p + N_q + N_r) )\n",
        "                \n",
        "                pass\n",
        "            \n",
        "            # print(np.argmin(D_t))\n",
        "            return(D_t)\n",
        "\n",
        "        linkage_choices = {\n",
        "            'single': lambda i, j, D: np.minimum(D[i], D[j]),\n",
        "            'average': lambda i, j, D: (D[i]+D[j])/2,\n",
        "            'complete': lambda i, j, D: np.maximum(D[i], D[j]),\n",
        "            'ward': ward_join\n",
        "        }\n",
        "        try:\n",
        "            join_func = linkage_choices[linkage]\n",
        "        except KeyError as e:\n",
        "            raise ValueError(\n",
        "                f\"Unknown linkage. Should be one of {linkage_choices.keys()}\"\n",
        "            ) from e\n",
        "        if linkage == 'ward' and metric != 'euclidean':\n",
        "            raise ValueError(\n",
        "                f\"Only euclidean disance is availible for ward's method.\"\n",
        "            )\n",
        "        self._join_func = join_func\n",
        "        self._linkage = linkage\n",
        "\n",
        "        self.distance_matrix = None\n",
        "        self.children_ = None\n",
        "\n",
        "    def __compute_distance_matrix(self, X):\n",
        "        N = X.shape[0]\n",
        "        matrix = np.empty((N, N))\n",
        "        for i in range(N):\n",
        "            for j in range(N):\n",
        "                dist = self._metric_func(X[i], X[j])\n",
        "                matrix[i,j] = dist\n",
        "        self.distance_matrix = matrix\n",
        "\n",
        "    def fit(self, X):\n",
        "        if type(X) == pd.core.frame.DataFrame:\n",
        "            X = X.to_numpy()\n",
        "\n",
        "        if self._metric_func != None:\n",
        "            self.__compute_distance_matrix(X)\n",
        "            # if self._linkage == 'ward':\n",
        "            #     scaler = StandardScaler()\n",
        "            #     D = scaler.fit_transform(D)\n",
        "            # self.distance_matrix = D\n",
        "        else:\n",
        "            self.distance_matrix = X\n",
        "        \n",
        "        D = self.distance_matrix.copy()\n",
        "        N = D.shape[0]\n",
        "\n",
        "        agglomerative_schedule = []\n",
        "\n",
        "        elem_count = np.zeros((N,1), dtype='int')\n",
        "        clust_map = np.arange(N, dtype=int)\n",
        "\n",
        "        self.children_ = np.ndarray((N-1, 2), dtype='int')\n",
        "        self.distances_ = np.ndarray((N-1))\n",
        "        self.labels_ = np.arange(N)\n",
        "\n",
        "        mask = np.zeros_like(D)\n",
        "        D_masked = ma.masked_array(D, mask)\n",
        "        D_masked.fill_value = np.inf\n",
        "        np.fill_diagonal(D_masked.mask, 1)\n",
        "\n",
        "        cluster_num = N\n",
        "        for k in range(N-1):\n",
        "            # D_masked[D_masked == 0] = ma.masked\n",
        "            ind_min_flat = np.argmin(D_masked)\n",
        "            ind_min = np.unravel_index(ind_min_flat, D_masked.shape)\n",
        "            i, j = ind_min\n",
        "\n",
        "            new_cluster = self._join_func(i, j, D_masked)\n",
        "            elem_count[i] += elem_count[j]\n",
        "            elem_count[j] = 0\n",
        "\n",
        "            agglomerative_schedule.append((i+1, j+1,\n",
        "                D_masked[ind_min].copy(), elem_count[i]))\n",
        "            self.distances_[k] = D_masked[ind_min]\n",
        "\n",
        "            self.children_[cluster_num - N, :] = [clust_map[i], clust_map[j]]\n",
        "            clust_map[i] = cluster_num\n",
        "            cluster_num += 1\n",
        "\n",
        "            D_masked[:, [j]] = ma.masked\n",
        "            D_masked[[j], :] = ma.masked\n",
        "            D_masked.data[:, [i]] = np.atleast_2d(new_cluster).T\n",
        "            D_masked.data[[i], :] = new_cluster\n",
        "\n",
        "            cluster_count = N - k -1\n",
        "            if cluster_count == self.n_clusters:\n",
        "                self.labels_ = np.where(self.labels_ == j, i, j)\n",
        "\n",
        "        self.agglomerative_schedule =  agglomerative_schedule\n",
        "        \n",
        "        return self"
      ]
    },
    {
      "cell_type": "code",
      "execution_count": 15,
      "metadata": {
        "colab": {
          "base_uri": "https://localhost:8080/",
          "height": 402
        },
        "id": "B6OpYw76yv79",
        "outputId": "b2f77c21-7d40-4387-8b3c-f7891ac843eb"
      },
      "outputs": [
        {
          "data": {
            "image/png": "[encoded data removed]",
            "text/plain": [
              "<Figure size 640x480 with 4 Axes>"
            ]
          },
          "metadata": {},
          "output_type": "display_data"
        }
      ],
      "source": [
        "def plot_dendrogram(model, **kwargs):\n",
        "    # Create linkage matrix and then plot the dendrogram\n",
        "\n",
        "    # create the counts of samples under each node\n",
        "    counts = np.zeros(model.children_.shape[0])\n",
        "    n_samples = len(model.labels_)\n",
        "    for i, merge in enumerate(model.children_):\n",
        "        current_count = 0\n",
        "        for child_idx in merge:\n",
        "            if child_idx < n_samples:\n",
        "                current_count += 1  # leaf node\n",
        "            else:\n",
        "                current_count += counts[child_idx - n_samples]\n",
        "        counts[i] = current_count\n",
        "\n",
        "    linkage_matrix = np.column_stack(\n",
        "        [model.children_, model.distances_, counts]\n",
        "    ).astype(float)\n",
        "\n",
        "    # Plot the corresponding dendrogram\n",
        "    dendrogram(linkage_matrix, **kwargs)\n",
        "    return linkage_matrix\n",
        "\n",
        "linkage_types = ['ward', 'complete', 'average', 'single']\n",
        "cutoff_thresholds = [4, 2, 1, 0.5]\n",
        "linkage_colors = dict(zip(linkage_types, cutoff_thresholds))\n",
        "labels = [' Уорда', 'Полной связи', \"Средней связи\", \"Ближнего соседа\"]\n",
        "linkage_labels = dict(zip(linkage_types, labels))\n",
        "\n",
        "mpl.rcParams.update(mpl.rcParamsDefault)\n",
        "hclust = dict()\n",
        "fig, axs = plt.subplots(2, 2)\n",
        "axs_indices = [(i, j) for i in range(2) for j in range(2)]\n",
        "for linkage_type, axs_ind in zip(linkage_types, axs_indices):\n",
        "    model = AgglomerativeClustering(linkage=linkage_type)\n",
        "    clustering = model.fit(X)\n",
        "    axs[axs_ind].set_title(linkage_labels[linkage_type])\n",
        "    axs[axs_ind].axhline(y=linkage_colors[linkage_type], linestyle='dashed', color='black')\n",
        "    linkage_matrix = plot_dendrogram(\n",
        "        clustering,\n",
        "        truncate_mode=\"level\",\n",
        "        p=6,\n",
        "        ax=axs[axs_ind],\n",
        "        labels=None,\n",
        "        color_threshold = linkage_colors[linkage_type]\n",
        "        # orientation='right'\n",
        "        )\n",
        "\n",
        "    hclust[linkage_type] = {\n",
        "        \"clustering\": clustering,\n",
        "        \"linkage_matrix\": linkage_matrix\n",
        "    }\n",
        "fig.tight_layout()\n",
        "plt.show()"
      ]
    },
    {
      "cell_type": "code",
      "execution_count": 11,
      "metadata": {},
      "outputs": [],
      "source": [
        "a = np.arange(149, 2)"
      ]
    },
    {
      "cell_type": "code",
      "execution_count": 12,
      "metadata": {
        "id": "Q4ntbvtLyuo4"
      },
      "outputs": [],
      "source": [
        "from scipy.cluster.hierarchy import dendrogram, linkage\n",
        "Z=linkage(iris_data.data, 'ward')"
      ]
    },
    {
      "cell_type": "code",
      "execution_count": 13,
      "metadata": {
        "id": "bB2rdldB8Ad5"
      },
      "outputs": [
        {
          "data": {
            "text/plain": [
              "array([1, 1, 1, 1, 1, 1, 1, 1, 1, 1, 1, 1, 1, 1, 1, 1, 1, 1, 1, 1, 1, 1,\n",
              "       1, 1, 1, 1, 1, 1, 1, 1, 1, 1, 1, 1, 1, 1, 1, 1, 1, 1, 1, 1, 1, 1,\n",
              "       1, 1, 1, 1, 1, 1, 0, 0, 0, 0, 0, 0, 0, 0, 0, 0, 0, 0, 0, 0, 0, 0,\n",
              "       0, 0, 0, 0, 0, 0, 0, 0, 0, 0, 0, 2, 0, 0, 0, 0, 0, 0, 0, 0, 0, 0,\n",
              "       0, 0, 0, 0, 0, 0, 0, 0, 0, 0, 0, 0, 2, 0, 2, 2, 2, 2, 0, 2, 2, 2,\n",
              "       2, 2, 2, 0, 0, 2, 2, 2, 2, 0, 2, 0, 2, 0, 2, 2, 0, 0, 2, 2, 2, 2,\n",
              "       2, 0, 0, 2, 2, 2, 0, 2, 2, 2, 0, 2, 2, 2, 0, 2, 2, 0], dtype=int64)"
            ]
          },
          "execution_count": 13,
          "metadata": {},
          "output_type": "execute_result"
        }
      ],
      "source": [
        "from sklearn.cluster import AgglomerativeClustering as AC\n",
        "clustering = AC(n_clusters=3, compute_distances=True).fit(iris_data.data)\n",
        "# print(clustering.distances_.shape)\n",
        "clustering.labels_"
      ]
    },
    {
      "cell_type": "code",
      "execution_count": 14,
      "metadata": {
        "id": "hyTHZh0gu4KI",
        "outputId": "b1078c73-26f9-44dc-fc4c-bcfee49bc6ac"
      },
      "outputs": [
        {
          "ename": "NameError",
          "evalue": "name 'X1' is not defined",
          "output_type": "error",
          "traceback": [
            "\u001b[1;31m---------------------------------------------------------------------------\u001b[0m",
            "\u001b[1;31mNameError\u001b[0m                                 Traceback (most recent call last)",
            "Cell \u001b[1;32mIn[14], line 2\u001b[0m\n\u001b[0;32m      1\u001b[0m model \u001b[38;5;241m=\u001b[39m AgglomerativeClustering(linkage\u001b[38;5;241m=\u001b[39m\u001b[38;5;124m'\u001b[39m\u001b[38;5;124mward\u001b[39m\u001b[38;5;124m'\u001b[39m)\n\u001b[1;32m----> 2\u001b[0m model\u001b[38;5;241m.\u001b[39mfit(\u001b[43mX1\u001b[49m\u001b[38;5;241m.\u001b[39mto_numpy())\n\u001b[0;32m      3\u001b[0m \u001b[38;5;28mprint\u001b[39m(\u001b[38;5;241m*\u001b[39mmodel\u001b[38;5;241m.\u001b[39magglomerative_schedule, sep\u001b[38;5;241m=\u001b[39m\u001b[38;5;124m'\u001b[39m\u001b[38;5;130;01m\\n\u001b[39;00m\u001b[38;5;124m'\u001b[39m)\n",
            "\u001b[1;31mNameError\u001b[0m: name 'X1' is not defined"
          ]
        }
      ],
      "source": [
        "model = AgglomerativeClustering(linkage='ward')\n",
        "model.fit(X1.to_numpy())\n",
        "print(*model.agglomerative_schedule, sep='\\n')"
      ]
    },
    {
      "cell_type": "code",
      "execution_count": null,
      "metadata": {
        "id": "t9NX6oLHu4KJ",
        "outputId": "df3b2adf-93e3-412c-ce79-0d968dbf6066"
      },
      "outputs": [],
      "source": [
        "X2 = pd.read_excel('iris_data/clustering.xlsx', sheet_name='dist_matrix', header=None)\n",
        "X2"
      ]
    },
    {
      "cell_type": "code",
      "execution_count": null,
      "metadata": {
        "id": "j85tWyOpu4KJ",
        "outputId": "574c4a97-09a5-4f0f-bdd0-407304981c52"
      },
      "outputs": [],
      "source": [
        "model = AgglomerativeClustering(metric='precomputed')\n",
        "model.fit(X2.to_numpy())\n",
        "print(*model.agglomerative_schedule, sep='\\n')"
      ]
    }
  ],
  "metadata": {
    "colab": {
      "provenance": []
    },
    "kernelspec": {
      "display_name": "base",
      "language": "python",
      "name": "python3"
    },
    "language_info": {
      "codemirror_mode": {
        "name": "ipython",
        "version": 3
      },
      "file_extension": ".py",
      "mimetype": "text/x-python",
      "name": "python",
      "nbconvert_exporter": "python",
      "pygments_lexer": "ipython3",
      "version": "3.10.13"
    }
  },
  "nbformat": 4,
  "nbformat_minor": 0
}
